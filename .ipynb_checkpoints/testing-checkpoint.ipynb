{
 "cells": [
  {
   "cell_type": "markdown",
   "metadata": {},
   "source": [
    "# Introduction"
   ]
  },
  {
   "cell_type": "code",
   "execution_count": 60,
   "metadata": {
    "ExecuteTime": {
     "end_time": "2021-02-24T14:34:08.802401Z",
     "start_time": "2021-02-24T14:34:08.715207Z"
    }
   },
   "outputs": [],
   "source": [
    "import osmox\n",
    "from osmox import config, build\n",
    "import logging\n",
    "logger = logging.getLogger(__name__)\n",
    "import pandas as pd"
   ]
  },
  {
   "cell_type": "code",
   "execution_count": 64,
   "metadata": {
    "ExecuteTime": {
     "end_time": "2021-02-24T14:35:19.060205Z",
     "start_time": "2021-02-24T14:35:18.963487Z"
    }
   },
   "outputs": [
    {
     "name": "stdout",
     "output_type": "stream",
     "text": [
      "The autoreload extension is already loaded. To reload it, use:\n",
      "  %reload_ext autoreload\n"
     ]
    }
   ],
   "source": [
    "%load_ext autoreload\n",
    "%autoreload 2"
   ]
  },
  {
   "cell_type": "code",
   "execution_count": 2,
   "metadata": {
    "ExecuteTime": {
     "end_time": "2021-02-24T13:53:39.402535Z",
     "start_time": "2021-02-24T13:53:39.398546Z"
    }
   },
   "outputs": [],
   "source": [
    "config_path = r'configs/config.json'\n",
    "#input_path = r'tests/data/isle-of-man-latest.osm.pbf'\n",
    "input_path = r'tests/data/isle-of-wight-latest.osm.pbf'\n",
    "#input_path = r'tests/data/bristol-latest.osm.pbf'\n",
    "output_path = r'outputs/example.geojson'"
   ]
  },
  {
   "cell_type": "markdown",
   "metadata": {},
   "source": [
    "# Run"
   ]
  },
  {
   "cell_type": "markdown",
   "metadata": {},
   "source": [
    "## Initialise"
   ]
  },
  {
   "cell_type": "code",
   "execution_count": 220,
   "metadata": {
    "ExecuteTime": {
     "end_time": "2021-02-24T16:38:19.595467Z",
     "start_time": "2021-02-24T16:38:18.701792Z"
    }
   },
   "outputs": [],
   "source": [
    "# # all points\n",
    "# cnfg = config.load(config_path)\n",
    "# config.validate_activity_config(cnfg)\n",
    "# handler = build.ObjectHandler(cnfg)\n",
    "# handler.apply_file(input_path, locations=True, idx='flex_mem')\n",
    "\n",
    "\n",
    "# activity_tags = []\n",
    "# for x in handler.points.objects:\n",
    "#     for y in x.activity_tags: \n",
    "#         activity_tags.append({'key':y.key,\n",
    "#                               'value':y.value})\n",
    "    \n",
    "# activity_tags = pd.DataFrame(activity_tags).drop_duplicates().sort_values(['key','value'])\n",
    "# activity_tags[(activity_tags.key.isin(['railway','highway','bus']))]\n"
   ]
  },
  {
   "cell_type": "code",
   "execution_count": null,
   "metadata": {
    "ExecuteTime": {
     "start_time": "2021-02-24T17:02:50.216Z"
    }
   },
   "outputs": [
    {
     "name": "stderr",
     "output_type": "stream",
     "text": [
      "WARNING:osmox.config:Loading config from 'configs/config.json'.\n",
      "WARNING:osmox.config:Configured activities: ['delivery', 'depot', 'education', 'food_shop', 'health', 'home', 'leisure', 'personal_business', 'religious', 'shop', 'shop_food', 'social', 'transit_stop', 'work']\n"
     ]
    }
   ],
   "source": [
    "cnfg = config.load(config_path)\n",
    "config.validate_activity_config(cnfg)\n",
    "handler = build.ObjectHandler(cnfg)\n",
    "handler.apply_file(input_path, locations=True, idx='flex_mem')\n",
    "logger.info(f\" Found {len(handler.objects)} buildings.\")\n",
    "logger.info(f\" Found {len(handler.points)} nodes with valid tags.\")\n",
    "logger.info(f\" Found {len(handler.areas)} areas with valid tags.\")\n",
    "\n",
    "\n",
    "logger.info(f\" Assigning building tags.\")\n",
    "handler.assign_tags()\n",
    "logger.info(f\" Finished assigning tags: f{handler.log}.\")\n",
    "\n",
    "logger.info(f\" Assigning building activities.\")\n",
    "handler.assign_activities()"
   ]
  },
  {
   "cell_type": "code",
   "execution_count": null,
   "metadata": {
    "ExecuteTime": {
     "start_time": "2021-02-24T17:02:50.393Z"
    }
   },
   "outputs": [],
   "source": [
    "# handler.extract_transit_stops()\n",
    "# handler.transit_stops"
   ]
  },
  {
   "cell_type": "code",
   "execution_count": null,
   "metadata": {
    "ExecuteTime": {
     "start_time": "2021-02-24T17:02:50.553Z"
    }
   },
   "outputs": [],
   "source": [
    "# handler.add_transit_stop_distances()"
   ]
  },
  {
   "cell_type": "markdown",
   "metadata": {},
   "source": [
    "## Assign Distances"
   ]
  },
  {
   "cell_type": "code",
   "execution_count": null,
   "metadata": {
    "ExecuteTime": {
     "start_time": "2021-02-24T17:02:50.887Z"
    }
   },
   "outputs": [],
   "source": [
    "## assign distances\n",
    "handler.assign_transit_stop_distances()"
   ]
  },
  {
   "cell_type": "markdown",
   "metadata": {},
   "source": [
    "## Add features"
   ]
  },
  {
   "cell_type": "code",
   "execution_count": null,
   "metadata": {
    "ExecuteTime": {
     "start_time": "2021-02-24T17:02:51.226Z"
    }
   },
   "outputs": [],
   "source": [
    "if cnfg.get(\"features_config\"):\n",
    "    logger.info(f\" Assigning building features: {cnfg['features_config']}.\")\n",
    "    handler.add_features()\n",
    "\n",
    "gdf = handler.dataframe()\n",
    "gdf"
   ]
  },
  {
   "cell_type": "code",
   "execution_count": null,
   "metadata": {
    "ExecuteTime": {
     "start_time": "2021-02-24T17:02:54.123Z"
    }
   },
   "outputs": [],
   "source": [
    "gdf[gdf.activities=='transit_stop']"
   ]
  },
  {
   "cell_type": "code",
   "execution_count": null,
   "metadata": {
    "ExecuteTime": {
     "start_time": "2021-02-24T17:02:54.295Z"
    }
   },
   "outputs": [],
   "source": [
    "gdf.sample(10)"
   ]
  },
  {
   "cell_type": "code",
   "execution_count": null,
   "metadata": {
    "ExecuteTime": {
     "start_time": "2021-02-24T17:02:54.439Z"
    }
   },
   "outputs": [],
   "source": [
    "gdf.geometry[0].y"
   ]
  },
  {
   "cell_type": "markdown",
   "metadata": {},
   "source": [
    "# Experiments"
   ]
  },
  {
   "cell_type": "markdown",
   "metadata": {},
   "source": [
    "## projection"
   ]
  },
  {
   "cell_type": "code",
   "execution_count": 261,
   "metadata": {
    "ExecuteTime": {
     "end_time": "2021-02-24T17:01:10.890159Z",
     "start_time": "2021-02-24T17:01:10.788055Z"
    }
   },
   "outputs": [],
   "source": [
    "from pyproj import Proj, Transformer, CRS\n",
    "from shapely.ops import transform"
   ]
  },
  {
   "cell_type": "code",
   "execution_count": 245,
   "metadata": {
    "ExecuteTime": {
     "end_time": "2021-02-24T16:46:18.475987Z",
     "start_time": "2021-02-24T16:46:18.327060Z"
    }
   },
   "outputs": [
    {
     "data": {
      "image/svg+xml": [
       "<svg xmlns=\"http://www.w3.org/2000/svg\" xmlns:xlink=\"http://www.w3.org/1999/xlink\" width=\"100.0\" height=\"100.0\" viewBox=\"7335543.272527811 -5778352.616583606 2.0 2.0\" preserveAspectRatio=\"xMinYMin meet\"><g transform=\"matrix(1,0,0,-1,0,-11556703.233167212)\"><circle cx=\"7335544.272527811\" cy=\"-5778351.616583606\" r=\"0.06\" stroke=\"#555555\" stroke-width=\"0.02\" fill=\"#66cc99\" opacity=\"0.6\" /></g></svg>"
      ],
      "text/plain": [
       "<shapely.geometry.point.Point at 0x1e9ce52b390>"
      ]
     },
     "execution_count": 245,
     "metadata": {},
     "output_type": "execute_result"
    }
   ],
   "source": []
  },
  {
   "cell_type": "code",
   "execution_count": 255,
   "metadata": {
    "ExecuteTime": {
     "end_time": "2021-02-24T16:52:47.619925Z",
     "start_time": "2021-02-24T16:52:47.532761Z"
    }
   },
   "outputs": [
    {
     "data": {
      "text/plain": [
       "(array('d', [-1.3647133]), array('d', [50.7158005]))"
      ]
     },
     "execution_count": 255,
     "metadata": {},
     "output_type": "execute_result"
    }
   ],
   "source": [
    "gdf.geometry[0].xy"
   ]
  },
  {
   "cell_type": "markdown",
   "metadata": {},
   "source": [
    ".. should reproject to : NORTHING=444947 , EASTING=090878"
   ]
  },
  {
   "cell_type": "code",
   "execution_count": 253,
   "metadata": {
    "ExecuteTime": {
     "end_time": "2021-02-24T16:52:34.941248Z",
     "start_time": "2021-02-24T16:52:34.789246Z"
    }
   },
   "outputs": [
    {
     "name": "stdout",
     "output_type": "stream",
     "text": [
      "POINT (7335544.272527811 -5778351.616583606)\n",
      "(array('d', [7335544.272527811]), array('d', [-5778351.616583606]))\n"
     ]
    }
   ],
   "source": [
    "to_crs='epsg:27700' \n",
    "from_crs='epsg:4326'\n",
    "transformer = Transformer.from_proj(Proj(from_crs), Proj(to_crs))\n",
    "transformed = transform(transformer.transform, gdf.geometry[0])\n",
    "print(transformed)\n",
    "print(transformed.xy)\n",
    "# transformed"
   ]
  },
  {
   "cell_type": "code",
   "execution_count": 263,
   "metadata": {
    "ExecuteTime": {
     "end_time": "2021-02-24T17:01:18.792883Z",
     "start_time": "2021-02-24T17:01:18.615358Z"
    }
   },
   "outputs": [
    {
     "name": "stdout",
     "output_type": "stream",
     "text": [
      "POINT (444947.0282985771 90877.97295402401)\n",
      "(array('d', [444947.0282985771]), array('d', [90877.97295402401]))\n"
     ]
    }
   ],
   "source": [
    "transformer = Transformer.from_crs(CRS(from_crs), CRS(to_crs), always_xy=True).transform\n",
    "transformed = transform(transformer, gdf.geometry[0])\n",
    "print(transformed)\n",
    "print(transformed.xy)"
   ]
  },
  {
   "cell_type": "code",
   "execution_count": 265,
   "metadata": {
    "ExecuteTime": {
     "end_time": "2021-02-24T17:01:37.762090Z",
     "start_time": "2021-02-24T17:01:37.670372Z"
    }
   },
   "outputs": [
    {
     "data": {
      "text/plain": [
       "444947.0282985771"
      ]
     },
     "execution_count": 265,
     "metadata": {},
     "output_type": "execute_result"
    }
   ],
   "source": [
    "transformed.x"
   ]
  },
  {
   "cell_type": "markdown",
   "metadata": {},
   "source": [
    "## nearest point"
   ]
  },
  {
   "cell_type": "code",
   "execution_count": 149,
   "metadata": {
    "ExecuteTime": {
     "end_time": "2021-02-24T15:36:23.926756Z",
     "start_time": "2021-02-24T15:36:23.839033Z"
    }
   },
   "outputs": [
    {
     "data": {
      "text/plain": [
       "['POINT (0.5 1)', 'POINT (0.5 2)']"
      ]
     },
     "execution_count": 149,
     "metadata": {},
     "output_type": "execute_result"
    }
   ],
   "source": [
    "from shapely.ops import nearest_points\n",
    "from shapely.geometry import Polygon, Point, MultiPoint\n",
    "triangle = Polygon([(0, 0), (1, 0), (0.5, 1), (0, 0)])\n",
    "square = Polygon([(0, 2), (1, 2), (1, 3), (0, 3), (0, 2)])\n",
    "[o.wkt for o in nearest_points(triangle, square)]"
   ]
  }
 ],
 "metadata": {
  "kernelspec": {
   "display_name": "Python 3",
   "language": "python",
   "name": "python3"
  },
  "language_info": {
   "codemirror_mode": {
    "name": "ipython",
    "version": 3
   },
   "file_extension": ".py",
   "mimetype": "text/x-python",
   "name": "python",
   "nbconvert_exporter": "python",
   "pygments_lexer": "ipython3",
   "version": "3.6.5"
  },
  "toc": {
   "base_numbering": 1,
   "nav_menu": {},
   "number_sections": true,
   "sideBar": true,
   "skip_h1_title": false,
   "title_cell": "Table of Contents",
   "title_sidebar": "Contents",
   "toc_cell": false,
   "toc_position": {},
   "toc_section_display": true,
   "toc_window_display": true
  }
 },
 "nbformat": 4,
 "nbformat_minor": 4
}
